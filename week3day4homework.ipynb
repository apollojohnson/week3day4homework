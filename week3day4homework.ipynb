{
 "cells": [
  {
   "cell_type": "markdown",
   "metadata": {},
   "source": [
    "### Regex project\n",
    "\n",
    "Use python to read the file regex_test.txt and print the last name on each line using regular expressions and groups (return None for names with no first and last name, or names that aren't properly capitalized)\n",
    "##### Hint: use with open() and readlines()"
   ]
  },
  {
   "cell_type": "code",
   "execution_count": 88,
   "metadata": {},
   "outputs": [
    {
     "name": "stdout",
     "output_type": "stream",
     "text": [
      "Abraham Lincoln\n",
      "Andrew P Garfield\n",
      "Connor Milliken\n",
      "Jordan Alexander Williams\n",
      "Madonna\n",
      "programming is cool\n",
      "\n",
      "##########\n",
      "\n",
      "Lincoln\n",
      "P Garfield\n",
      "Milliken\n",
      "Alexander\n"
     ]
    }
   ],
   "source": [
    "import re\n",
    "\n",
    "# opens the text file; don't need to close it after, with this command\n",
    "with open(r\"C:\\Users\\13128\\Desktop\\CodingTemple\\regex_test.txt\") as file:\n",
    "    fullnames = file.read()\n",
    "    print(fullnames)\n",
    "\n",
    "# printing divider\n",
    "print(\"##########\\n\")\n",
    "\n",
    "# looks at what's inside the (\"\") and splits the text into groups based on it\n",
    "pattern_name = re.compile(\"([A-Z][A-Za-z]+) ([A-Z]\\s?[A-Za-z]+)\")\n",
    "\n",
    "found_names = pattern_name.findall(fullnames)\n",
    "\n",
    "# looks thru the text and finds the compiled stuff\n",
    "for name in fullnames.split(\"\\n\"):\n",
    "    match = pattern_name.search(name)\n",
    "\n",
    "# if it finds what it's looking for, it prints it based on group indicated\n",
    "    if match:\n",
    "        print(match.group(2))"
   ]
  }
 ],
 "metadata": {
  "kernelspec": {
   "display_name": "Python 3",
   "language": "python",
   "name": "python3"
  },
  "language_info": {
   "codemirror_mode": {
    "name": "ipython",
    "version": 3
   },
   "file_extension": ".py",
   "mimetype": "text/x-python",
   "name": "python",
   "nbconvert_exporter": "python",
   "pygments_lexer": "ipython3",
   "version": "3.8.5"
  }
 },
 "nbformat": 4,
 "nbformat_minor": 4
}
